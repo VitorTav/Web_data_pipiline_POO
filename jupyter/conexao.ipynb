{
 "cells": [
  {
   "cell_type": "code",
   "execution_count": null,
   "metadata": {},
   "outputs": [],
   "source": [
    "# # import mysql.connector\n",
    "\n",
    "# def create_mysql_connection(host_name, user_name, user_password):\n",
    "#     connection = None\n",
    "#     try:\n",
    "#         connection = mysql.connector.connect(\n",
    "#             host=host_name,\n",
    "#             user=user_name,\n",
    "#             password=user_password\n",
    "#         )\n",
    "#         print(\"Conexão ao banco de dados MySQL realizada com sucesso\")\n",
    "#     except mysql.connector.Error as err:\n",
    "#         print(f\"Erro: '{err}'\")\n",
    "#     return connection\n",
    "\n",
    "    "
   ]
  }
 ],
 "metadata": {
  "language_info": {
   "name": "python"
  }
 },
 "nbformat": 4,
 "nbformat_minor": 2
}
